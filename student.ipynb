{
 "cells": [
  {
   "cell_type": "markdown",
   "metadata": {},
   "source": [
    "## Final Project Submission\n",
    "\n",
    "Please fill out:\n",
    "* Student name: Raffette Alston\n",
    "* Student pace: Part-time\n",
    "* Scheduled project review date/time: June 14/5pm EST \n",
    "* Instructor name: James Irving, PhD\n",
    "* Blog post URL:https://raffettealston.github.io/data_visualization_a_beginners_perspective\n"
   ]
  },
  {
   "cell_type": "markdown",
   "metadata": {},
   "source": [
    "# Introduction\n",
    "Microsoft sees all the big companies creating original video content, and they want to get in on the fun. They have decided to create a new movie studio, but the problem is they don’t know anything about creating movies. They have hired you to help them better understand the movie industry. Your team is charged with doing data analysis and creating a presentation that explores what type of films are currently doing the best at the box office. You must then translate those findings into actionable insights that the CEO can use when deciding what type of films they should be creating. \n"
   ]
  },
  {
   "cell_type": "markdown",
   "metadata": {},
   "source": [
    "### Questions to Ask\n",
    "- Which studios produced the movies with the highest gross from 2010-present?\n",
    "    - Domestic gross \n",
    "    - Worldwide gross\n",
    "- What are the top 10 grossing genres and how much did each genre gross?\n",
    "    - Domestic gross\n",
    "    - Worldwide gross\n",
    "- What movies had the largest production budgets from 2010-present?\n",
    "- Which movies  had the highest gross from 2010-present?\n",
    "    - Domestic gross\n",
    "    - Worldwide gross\n",
    "\n"
   ]
  },
  {
   "cell_type": "markdown",
   "metadata": {},
   "source": [
    "# Import Libraries and Data"
   ]
  },
  {
   "cell_type": "code",
   "execution_count": 1,
   "metadata": {},
   "outputs": [
    {
     "name": "stdout",
     "output_type": "stream",
     "text": [
      "CONTRIBUTING.md             module1_project_rubric.pdf\r\n",
      "LICENSE.md                  output_37_0.png\r\n",
      "README.md                   student.ipynb\r\n",
      "Untitled.ipynb              \u001b[34mzippedData\u001b[m\u001b[m/\r\n",
      "awesome.gif\r\n"
     ]
    }
   ],
   "source": [
    "%ls"
   ]
  },
  {
   "cell_type": "code",
   "execution_count": 2,
   "metadata": {},
   "outputs": [
    {
     "data": {
      "text/plain": [
       "['imdb.title.crew.csv.gz',\n",
       " 'tmdb.movies.csv.gz',\n",
       " 'imdb.title.akas.csv.gz',\n",
       " 'imdb.title.ratings.csv.gz',\n",
       " 'imdb.name.basics.csv.gz',\n",
       " 'rt.reviews.tsv.gz',\n",
       " 'imdb.title.basics.csv.gz',\n",
       " 'rt.movie_info.tsv.gz',\n",
       " 'tn.movie_budgets.csv.gz',\n",
       " 'bom.movie_gross.csv.gz',\n",
       " 'imdb.title.principals.csv.gz']"
      ]
     },
     "execution_count": 2,
     "metadata": {},
     "output_type": "execute_result"
    }
   ],
   "source": [
    "import os\n",
    "os.listdir(\"zippedData/\")"
   ]
  },
  {
   "cell_type": "code",
   "execution_count": 3,
   "metadata": {
    "scrolled": true
   },
   "outputs": [
    {
     "data": {
      "text/plain": [
       "['zippedData/imdb.title.crew.csv.gz',\n",
       " 'zippedData/tmdb.movies.csv.gz',\n",
       " 'zippedData/imdb.title.akas.csv.gz',\n",
       " 'zippedData/imdb.title.ratings.csv.gz',\n",
       " 'zippedData/imdb.name.basics.csv.gz',\n",
       " 'zippedData/rt.reviews.tsv.gz',\n",
       " 'zippedData/imdb.title.basics.csv.gz',\n",
       " 'zippedData/rt.movie_info.tsv.gz',\n",
       " 'zippedData/tn.movie_budgets.csv.gz',\n",
       " 'zippedData/bom.movie_gross.csv.gz',\n",
       " 'zippedData/imdb.title.principals.csv.gz']"
      ]
     },
     "execution_count": 3,
     "metadata": {},
     "output_type": "execute_result"
    }
   ],
   "source": [
    "import glob\n",
    "file_list = glob.glob(\"zippedData/*\")\n",
    "file_list"
   ]
  },
  {
   "cell_type": "code",
   "execution_count": null,
   "metadata": {},
   "outputs": [],
   "source": [
    "import numpy as np\n",
    "import matplotlib.pyplot as plt\n",
    "import seaborn as sns\n",
    "import pandas as pd"
   ]
  },
  {
   "cell_type": "code",
   "execution_count": null,
   "metadata": {},
   "outputs": [],
   "source": [
    "DATA = {}\n",
    "for file in file_list:\n",
    "    key = file.split('/')[-1]\n",
    "    print(key)\n",
    "    \n",
    "    try:\n",
    "        df = pd.read_csv(file)\n",
    "    except:\n",
    "        df = pd.read_csv(file, sep='\\t',encoding='latin-1')\n",
    "    \n",
    "    DATA[key] = df"
   ]
  },
  {
   "cell_type": "code",
   "execution_count": null,
   "metadata": {},
   "outputs": [],
   "source": [
    "for filename, df in DATA.items():\n",
    "    print(filename)\n",
    "    display(df.head())\n",
    "    print()"
   ]
  },
  {
   "cell_type": "markdown",
   "metadata": {},
   "source": [
    "# Explore Data"
   ]
  },
  {
   "cell_type": "code",
   "execution_count": null,
   "metadata": {},
   "outputs": [],
   "source": [
    "#Explore head of dataset\n",
    "df0 = pd.read_csv(file_list[0])\n",
    "df0.head()\n"
   ]
  },
  {
   "cell_type": "code",
   "execution_count": null,
   "metadata": {},
   "outputs": [],
   "source": [
    "#Explore head of dataset\n",
    "df1 = pd.read_csv(file_list[1])\n",
    "df1.head()"
   ]
  },
  {
   "cell_type": "code",
   "execution_count": null,
   "metadata": {},
   "outputs": [],
   "source": [
    "#Explore head of dataset\n",
    "df2 = pd.read_csv(file_list[2])\n",
    "df2.head()"
   ]
  },
  {
   "cell_type": "code",
   "execution_count": null,
   "metadata": {},
   "outputs": [],
   "source": [
    "#Explore head of dataset\n",
    "df3 = pd.read_csv(file_list[3]).sort_values(by = 'averagerating', ascending = False)\n",
    "df3.head()"
   ]
  },
  {
   "cell_type": "code",
   "execution_count": null,
   "metadata": {
    "scrolled": false
   },
   "outputs": [],
   "source": [
    "#Explore head of dataset\n",
    "df4 = pd.read_csv(file_list[4])\n",
    "df4.head()"
   ]
  },
  {
   "cell_type": "code",
   "execution_count": null,
   "metadata": {},
   "outputs": [],
   "source": [
    "#Explore head of dataset\n",
    "df6 = pd.read_csv(file_list[6])\n",
    "df6.head()\n"
   ]
  },
  {
   "cell_type": "code",
   "execution_count": null,
   "metadata": {
    "scrolled": true
   },
   "outputs": [],
   "source": [
    "#Explore head of dataset\n",
    "df8 = pd.read_csv(file_list[8])\n",
    "df8.head()"
   ]
  },
  {
   "cell_type": "code",
   "execution_count": null,
   "metadata": {},
   "outputs": [],
   "source": [
    "#Explore data and sort by domestic gross\n",
    "df9 = pd.read_csv(file_list[9])\n",
    "df9.sort_values(by='domestic_gross', ascending=[False])\n",
    "df9"
   ]
  },
  {
   "cell_type": "code",
   "execution_count": null,
   "metadata": {},
   "outputs": [],
   "source": [
    "#Explore head of dataset\n",
    "df10 = pd.read_csv(file_list[10])\n",
    "df10.head()"
   ]
  },
  {
   "cell_type": "code",
   "execution_count": null,
   "metadata": {},
   "outputs": [],
   "source": []
  },
  {
   "cell_type": "markdown",
   "metadata": {},
   "source": [
    "### Notes & Observations from Dataset Exploration\n",
    "- Look at the ones from the same site for possible combinations\n",
    "- imdb.title.crew.csv.gz = 0\n",
    "    - Index column = tconst\n",
    "    - tconst\n",
    "    - directors\n",
    "    - writers\n",
    "- tmdb.movies.csv.gz = 1\n",
    "    - Index column = id\n",
    "    - original_title/title\n",
    "    - release_date\n",
    "- imdb.title.akas.csv.gz = 2\n",
    "    - Index column = tconst\n",
    "    - title_id (-tconst)\n",
    "    - region\n",
    "- imdb.title.ratings.csv.gz = 3\n",
    "    - Index column = tconst\n",
    "    - Average ratings\n",
    "- imdb.name.basics.csv.gz = 4\n",
    "    - Index column = nconst\n",
    "    - known_titles (in a list)\n",
    "    - name (profession)\n",
    "    - primary_profession \n",
    "- rt.reviews.tsv.gz = 5 \n",
    "    - Index column = ?\n",
    "    - Interesting columns\n",
    "- imdb.title.basics.csv.gz = 6\n",
    "    - Index column = ?\n",
    "    - tconst\n",
    "    - primary_title, original_title\n",
    "    - start year\n",
    "    - genre\n",
    "- rt.movie_info.tsv.gz = 7 *\n",
    "   - Index column =\n",
    "   - Interesting columns\n",
    "- tn.movie_budgets.csv.gz = 8\n",
    "    - Index column = id\n",
    "    - Release date\n",
    "    - movie (title)\n",
    "    - budget\n",
    "    - domestic gross\n",
    "    - worldwide gross\n",
    "- bom.movie_gross.csv.gz = 9\n",
    "    - Index column = ?\n",
    "    - title\n",
    "    - studio\n",
    "    - domestic gross\n",
    "    - foreign gross\n",
    "    - year         \n",
    "- imdb.title.principals.csv.gz = 10\n",
    "    - Index column = tconst\n",
    "    - category\n",
    "    - job\n",
    "    - characters\n",
    "    \n",
    "    \n",
    "    ### DataFrames I plan to use for this project:\n",
    "    - imdb.name.basics.csv.gz = 4\n",
    "    - imdb.title.basics.csv.gz = 6\n",
    "    - tn.movie_budgets.csv.gz = 8\n",
    "    - bom.movie_gross.csv.gz = 9\n",
    "   \n",
    "    "
   ]
  },
  {
   "cell_type": "markdown",
   "metadata": {},
   "source": [
    "# Data Cleaning"
   ]
  },
  {
   "cell_type": "code",
   "execution_count": null,
   "metadata": {},
   "outputs": [],
   "source": [
    "#Remove dollar signs and commas from monetary columns\n",
    "df8['production_budget'] = df8['production_budget'].map(lambda row:row.replace(\"$\",\"\").replace(\",\",\"\"))\n",
    "df8['domestic_gross'] = df8['domestic_gross'].map(lambda row:row.replace(\"$\",\"\").replace(\",\",\"\"))\n",
    "df8['worldwide_gross'] = df8['worldwide_gross'].map(lambda row:row.replace(\"$\",\"\").replace(\",\",\"\"))\n"
   ]
  },
  {
   "cell_type": "code",
   "execution_count": null,
   "metadata": {},
   "outputs": [],
   "source": [
    "#Using for loop to make monetary columns a float\n",
    "currency_cols = ['production_budget','domestic_gross','worldwide_gross']\n",
    "for col in currency_cols:\n",
    "    df8[col] = df8[col].astype(float)\n",
    "\n",
    "#Run .info() to see if it works    \n",
    "df8.info()"
   ]
  },
  {
   "cell_type": "code",
   "execution_count": null,
   "metadata": {},
   "outputs": [],
   "source": [
    "#Explore head and sort values .head() to view \n",
    "df8.sort_values(by='worldwide_gross', ascending=[False])\n",
    "df8.head()"
   ]
  },
  {
   "cell_type": "markdown",
   "metadata": {},
   "source": [
    "### Restricting dataset to 2010-Present"
   ]
  },
  {
   "cell_type": "code",
   "execution_count": null,
   "metadata": {},
   "outputs": [],
   "source": [
    "#Change date using to_datetime\n",
    "df8['release_date'] = pd.to_datetime(df8['release_date'])\n",
    "df8.set_index('release_date', inplace = True)\n",
    "df8.info()"
   ]
  },
  {
   "cell_type": "code",
   "execution_count": null,
   "metadata": {},
   "outputs": [],
   "source": [
    "#Eliminate the extra data and restrict dataset to 2010-Present \n",
    "df8 = df8.loc['2010':].sort_index().reset_index()\n",
    "df8.head()"
   ]
  },
  {
   "cell_type": "code",
   "execution_count": null,
   "metadata": {},
   "outputs": [],
   "source": [
    "#Viewing dataset again before merging\n",
    "df6.head()"
   ]
  },
  {
   "cell_type": "code",
   "execution_count": null,
   "metadata": {},
   "outputs": [],
   "source": [
    "#looking for length of each dataset\n",
    "len(df8),len(df6)"
   ]
  },
  {
   "cell_type": "markdown",
   "metadata": {},
   "source": [
    "### Merge Dataframes"
   ]
  },
  {
   "cell_type": "code",
   "execution_count": null,
   "metadata": {},
   "outputs": [],
   "source": [
    "#Merge dataset on common column\n",
    "avrate_df = pd.merge(df6,df3, left_on = 'tconst', right_on = 'tconst')\n",
    "avrate_df.head(10)"
   ]
  },
  {
   "cell_type": "code",
   "execution_count": null,
   "metadata": {},
   "outputs": [],
   "source": [
    "#Merge previous dataset another on common column\n",
    "studio_df = pd.merge(avrate_df,df9, left_on = 'original_title', right_on = 'title')\n",
    "studio_df.head(10)"
   ]
  },
  {
   "cell_type": "code",
   "execution_count": null,
   "metadata": {},
   "outputs": [],
   "source": [
    "#Make a BIG dataset by merging several datasets together\n",
    "#This will be the primary dataset that I use\n",
    "df_big = pd.merge(df8,studio_df, left_on = 'movie', right_on = 'original_title')\n",
    "df_big.head(10)"
   ]
  },
  {
   "cell_type": "markdown",
   "metadata": {},
   "source": [
    "### Dropping duplicates and null values"
   ]
  },
  {
   "cell_type": "code",
   "execution_count": null,
   "metadata": {},
   "outputs": [],
   "source": [
    "#Drop rows that contain zero as a value\n",
    "df_big = df_big[df_big['domestic_gross_x']>0]"
   ]
  },
  {
   "cell_type": "code",
   "execution_count": null,
   "metadata": {},
   "outputs": [],
   "source": [
    "#Look for duplicates, keep = false (means every appearance will show)\n",
    "df_big[df_big.duplicated(subset = ['tconst'], keep = False)]"
   ]
  },
  {
   "cell_type": "code",
   "execution_count": null,
   "metadata": {
    "scrolled": true
   },
   "outputs": [],
   "source": [
    "#Drop duplicates, keep the first appearance\n",
    "df_big.drop_duplicates(subset = 'tconst', keep = 'first')\n",
    "df_big\n"
   ]
  },
  {
   "cell_type": "markdown",
   "metadata": {},
   "source": [
    "### Adjustments for genres"
   ]
  },
  {
   "cell_type": "code",
   "execution_count": null,
   "metadata": {},
   "outputs": [],
   "source": [
    "#View all the genres that appear in the genre column\n",
    "df_big['genres'].value_counts()"
   ]
  },
  {
   "cell_type": "code",
   "execution_count": null,
   "metadata": {},
   "outputs": [],
   "source": [
    "#View NA values in dataset and sum total each\n",
    "df_big.isna().sum()"
   ]
  },
  {
   "cell_type": "code",
   "execution_count": null,
   "metadata": {},
   "outputs": [],
   "source": [
    "#Drop NA values from dataset\n",
    "df_big.dropna(inplace = True)"
   ]
  },
  {
   "cell_type": "code",
   "execution_count": null,
   "metadata": {},
   "outputs": [],
   "source": [
    "#Create genre string\n",
    "genre_string = \",\".join(df_big['genres'])"
   ]
  },
  {
   "cell_type": "code",
   "execution_count": null,
   "metadata": {},
   "outputs": [],
   "source": [
    "#Create genre list\n",
    "genre_list = list (set (genre_string.split(\",\")))\n",
    "genre_list"
   ]
  },
  {
   "cell_type": "code",
   "execution_count": null,
   "metadata": {},
   "outputs": [],
   "source": [
    "#Test to see if list worked\n",
    "test_genre = genre_list[0]\n",
    "test_genre"
   ]
  },
  {
   "cell_type": "code",
   "execution_count": null,
   "metadata": {},
   "outputs": [],
   "source": [
    "#View info from dataframe\n",
    "df_big.info()"
   ]
  },
  {
   "cell_type": "code",
   "execution_count": null,
   "metadata": {},
   "outputs": [],
   "source": [
    "df_big.genres.str.contains(test_genre, regex = False)"
   ]
  },
  {
   "cell_type": "code",
   "execution_count": null,
   "metadata": {},
   "outputs": [],
   "source": [
    "#Create a for loop (separates out genres into columns)\n",
    "#Each column will contain a 0 (false) or 1 (True) \n",
    "#View head of dataset\n",
    "for genre in genre_list:\n",
    "    df_big[genre] = df_big.genres.str.contains(genre, regex = False).astype(int)\n",
    "df_big.head()"
   ]
  },
  {
   "cell_type": "code",
   "execution_count": null,
   "metadata": {},
   "outputs": [],
   "source": [
    "#Use .groupby() and .get_group to view dataset with new genre columns\n",
    "df_big.groupby('Documentary').get_group(1)"
   ]
  },
  {
   "cell_type": "markdown",
   "metadata": {},
   "source": [
    "### Sorting Values"
   ]
  },
  {
   "cell_type": "code",
   "execution_count": null,
   "metadata": {},
   "outputs": [],
   "source": [
    "#Sort values to see Top 10 movies based on Worldwide Gross \n",
    "df_big.sort_values(by = 'worldwide_gross', ascending = False).head(10)\n",
    "#Noticed that there are ids that appeared multiple times but different tconst"
   ]
  },
  {
   "cell_type": "code",
   "execution_count": null,
   "metadata": {},
   "outputs": [],
   "source": [
    "#Sort values to see Top 10 movies based on Domestic Gross\n",
    "df_big.sort_values(by = 'domestic_gross_x', ascending = False).head(10)"
   ]
  },
  {
   "cell_type": "code",
   "execution_count": null,
   "metadata": {},
   "outputs": [],
   "source": [
    "#Sort values to see Top 10 movies based on Production Budget\n",
    "df_big.sort_values(by = 'production_budget', ascending = False).head(10)"
   ]
  },
  {
   "cell_type": "markdown",
   "metadata": {},
   "source": [
    "# Data Visualization"
   ]
  },
  {
   "cell_type": "code",
   "execution_count": null,
   "metadata": {},
   "outputs": [],
   "source": [
    "#look at the correlation between domestic gross, production budget, and worldwide gross\n",
    "plt.rcParams[\"figure.figsize\"]=10,10\n",
    "pd.plotting.scatter_matrix(df8);"
   ]
  },
  {
   "cell_type": "code",
   "execution_count": null,
   "metadata": {},
   "outputs": [],
   "source": [
    "#Look at correlation columns in avrate_df\n",
    "plt.rcParams[\"figure.figsize\"]=10,10\n",
    "pd.plotting.scatter_matrix(avrate_df);"
   ]
  },
  {
   "cell_type": "markdown",
   "metadata": {},
   "source": [
    "###  Question 1: Which studios produced the movies with the highest gross from 2010-present (domestically and worldwide)?"
   ]
  },
  {
   "cell_type": "code",
   "execution_count": null,
   "metadata": {},
   "outputs": [],
   "source": [
    "#Import again just to be sure\n",
    "import matplotlib.pyplot as plt\n",
    "%matplotlib inline\n",
    "plt.style.use('seaborn-poster')\n",
    "import matplotlib.ticker as ticker\n",
    "\n",
    "#New dataframe for plotting\n",
    "new_df = df_big.groupby('studio').mean()\n",
    "new_df.sort_values('domestic_gross_x',ascending=False, inplace=True)\n",
    "\n",
    "#bar plot and format\n",
    "new_df.reset_index(inplace=True)\n",
    "fig, ax = plt.subplots()\n",
    "sns.set_context('talk')\n",
    "new_df.head(10).plot(x='studio', y='domestic_gross_x', kind='bar', title='Average Domestic Gross for Film Studios', ax=ax)\n",
    "formatter = ticker.FormatStrFormatter('$%1.0f')\n",
    "ax.yaxis.set_major_formatter(ticker.FuncFormatter(lambda x, p: format(int(x), ',')))\n",
    "\n",
    "#Labels and layout\n",
    "plt.title('Top 10 Film Studios Based on Average Domestic Gross')\n",
    "plt.xlabel('Film Studios')\n",
    "plt.ylabel('in Millions')\n",
    "plt.xticks(rotation=25)\n",
    "fig.tight_layout()\n"
   ]
  },
  {
   "cell_type": "markdown",
   "metadata": {},
   "source": [
    "### Answer 1 Part 1: Domestic: The studios with the highest domestic gross: \n",
    "- Buena Vista\n",
    "- Pixar/DreamWorks\n",
    "- MBox\n",
    "- Warner Brothers\n",
    "- Sony\n",
    "- Warner Brother (NewLine Cinema)\n",
    "- Universal Studios\n",
    "- Fox\n",
    "- Paramount Pictures\n",
    "- MGM"
   ]
  },
  {
   "cell_type": "code",
   "execution_count": null,
   "metadata": {},
   "outputs": [],
   "source": [
    "#New dataframe for plotting \n",
    "new_df2 = df_big.groupby('studio').mean()\n",
    "new_df2.sort_values('worldwide_gross',ascending=False, inplace=True)\n",
    "\n",
    "#Bar plot and format\n",
    "new_df2.reset_index(inplace=True)\n",
    "fig, ax = plt.subplots()\n",
    "new_df2.head(10).plot(x='studio', y='worldwide_gross', kind='bar', title='Average Worldwide Gross for Film Studios', color='red', ax=ax)\n",
    "formatter = ticker.FormatStrFormatter('$%1.0f')\n",
    "ax.yaxis.set_major_formatter(ticker.FuncFormatter(lambda x, p: format(int(x), ',')))\n",
    "\n",
    "#Labels and layout\n",
    "plt.title('Top 10 Film Studio Based on Average Worldwide Gross')\n",
    "plt.xlabel('Film Studios')\n",
    "plt.ylabel('in Millions')\n",
    "plt.xticks(rotation=25)\n",
    "fig.tight_layout()"
   ]
  },
  {
   "cell_type": "markdown",
   "metadata": {},
   "source": [
    "### Answer 1 Part 2: Worldwide: The studios with the highest worldwide gross: \n",
    "- Pixar/Dreamworks\n",
    "- Buena Vista\n",
    "- UTV (Walt Disney India)\n",
    "- GrtIndia \n",
    "- Fox\n",
    "- Sony\n",
    "- MBox\n",
    "- Warner Brothers\n",
    "- Warner Brother(NewLine Cinema)\n",
    "- Universal Studios"
   ]
  },
  {
   "cell_type": "code",
   "execution_count": null,
   "metadata": {},
   "outputs": [],
   "source": []
  },
  {
   "cell_type": "markdown",
   "metadata": {},
   "source": [
    "### Question 2: What are the top grossing genres (domestically and internationally) and what was average gross of each genre?\n",
    "    "
   ]
  },
  {
   "cell_type": "code",
   "execution_count": null,
   "metadata": {
    "scrolled": false
   },
   "outputs": [],
   "source": [
    "df_lst = []\n",
    "\n",
    "for col in genre_list:\n",
    "  df_lst.append(df_big[['domestic_gross_x', col]][df_big[col]==True])\n",
    "\n",
    "dct = {}\n",
    "for df in df_lst:\n",
    "  dct[df.columns[-1]] = df['domestic_gross_x'].mean()\n",
    "\n",
    "\n",
    "genres = pd.Series(dct)\n",
    "genres.sort_values(inplace=True)\n",
    "fig, ax = plt.subplots()\n",
    "genres.plot(kind = 'barh', title = 'Average Domestic Gross by Genre', color='green', ax=ax)\n",
    "formatter = ticker.FormatStrFormatter('$%1.0f')\n",
    "ax.xaxis.set_major_formatter(ticker.FuncFormatter(lambda x, p: format(int(x), ',')))\n",
    "\n",
    "#Labels and layout\n",
    "plt.title('Average Domestic Gross by Genre')\n",
    "plt.xlabel('in Millions')\n",
    "plt.ylabel('Genres')\n",
    "plt.xticks(rotation=25)\n",
    "fig.tight_layout()"
   ]
  },
  {
   "cell_type": "markdown",
   "metadata": {},
   "source": [
    "### Answer 2 Part 1: Based on average domestic gross, the following at the top grossing domestic genres:\n",
    "- Animation\n",
    "- Sci-Fi\n",
    "- Adventure\n",
    "- Action\n",
    "- Sport\n",
    "- Western\n",
    "- Fantasy\n",
    "- Family\n",
    "- Documentary\n",
    "- Comedy\n",
    "\n"
   ]
  },
  {
   "cell_type": "code",
   "execution_count": null,
   "metadata": {},
   "outputs": [],
   "source": [
    "df_lst = []\n",
    "\n",
    "for col in genre_list:\n",
    "  df_lst.append(df_big[['worldwide_gross', col]][df_big[col]==True])\n",
    "\n",
    "dct = {}\n",
    "for df in df_lst:\n",
    "  dct[df.columns[-1]] = df['worldwide_gross'].mean()\n",
    "\n",
    "genres = pd.Series(dct)\n",
    "genres.sort_values(inplace=True)\n",
    "fig, ax = plt.subplots()\n",
    "genres.plot(kind = 'barh', title = 'Average Worldwide Gross by Genre', color='purple', ax=ax)\n",
    "formatter = ticker.FormatStrFormatter('$%1.0f')\n",
    "ax.xaxis.set_major_formatter(ticker.FuncFormatter(lambda x, p: format(int(x), ',')))\n",
    "plt.title('Average Worldwide Gross by Genre')\n",
    "plt.xlabel('in Millions')\n",
    "plt.ylabel('Genres')\n",
    "plt.xticks(rotation=25)\n",
    "fig.tight_layout()"
   ]
  },
  {
   "cell_type": "markdown",
   "metadata": {},
   "source": [
    "### Answer 2 Part 2: Based on average worldwide gross, the following at the top grossing worldwide genres:\n",
    "- Animation\n",
    "- Adventure\n",
    "- Sci-Fi\n",
    "- Action\n",
    "- Fantasy\n",
    "- Family\n",
    "- Western\n",
    "- Sport\n",
    "- Documentary\n",
    "- Comedy\n"
   ]
  },
  {
   "cell_type": "code",
   "execution_count": null,
   "metadata": {},
   "outputs": [],
   "source": [
    "#Make for loop to loop genres\n",
    "genres_dct = {}\n",
    "for col in genre_list:\n",
    "  q = df_big[['domestic_gross_x', 'worldwide_gross', col]][df_big[col]==True]\n",
    "  dct[q.columns[-1]] = [q['domestic_gross_x'].mean(),q['worldwide_gross'].mean()]\n",
    "\n",
    "#Grouped bar chart\n",
    "genres = pd.DataFrame(dct).transpose()\n",
    "genres.reset_index(inplace=True)\n",
    "fig, ax = plt.subplots()\n",
    "genres.columns = ['genre', 'domestic_gross_x', 'worldwide_gross']\n",
    "genres.plot(x='genre', y=['domestic_gross_x', 'worldwide_gross'], kind='barh',edgecolor='black',ax=ax)\n",
    "formatter = ticker.FormatStrFormatter('$%1.0f')\n",
    "ax.xaxis.set_major_formatter(formatter)\n",
    "\n",
    "#Labels and layouts\n",
    "plt.title('Average Domestic & Worldwide Gross by Genre')\n",
    "plt.xlabel('in Millions')\n",
    "plt.ylabel('Genres')\n",
    "fig.tight_layout()"
   ]
  },
  {
   "cell_type": "markdown",
   "metadata": {},
   "source": [
    "### Answer 2 Part 3: The above chart(s) display the average gross of each genre."
   ]
  },
  {
   "cell_type": "code",
   "execution_count": null,
   "metadata": {},
   "outputs": [],
   "source": []
  },
  {
   "cell_type": "markdown",
   "metadata": {},
   "source": [
    "### Question 3: Which movies had the highest production budgets from 2010-present? "
   ]
  },
  {
   "cell_type": "code",
   "execution_count": null,
   "metadata": {},
   "outputs": [],
   "source": [
    "#New Dataframe for plot\n",
    "new_df1 = df_big.groupby('movie').mean()\n",
    "new_df1.sort_values('production_budget',ascending=False, inplace=True)\n",
    "\n",
    "new_df1.reset_index(inplace=True)\n",
    "fig, ax = plt.subplots()\n",
    "new_df1.head(10).plot(x='movie', y='production_budget', kind='barh', title='Production Budget for Top 10 ',edgecolor='black', ax=ax)\n",
    "formatter = ticker.FormatStrFormatter('$%1.0f')\n",
    "ax.xaxis.set_major_formatter(ticker.FuncFormatter(lambda x, p: format(int(x), ',')))\n",
    "\n",
    "#Labels and layouts\n",
    "plt.title('Top 10 Movies with the Largest Production Budget from 2010-2019')\n",
    "plt.xlabel('in Millions')\n",
    "plt.ylabel('Movies')\n",
    "plt.xticks(rotation=25)\n",
    "fig.tight_layout()"
   ]
  },
  {
   "cell_type": "markdown",
   "metadata": {},
   "source": [
    "### Answer 3: The above chart displays the top 10 movies with the largest production budgets from 2010-present. "
   ]
  },
  {
   "cell_type": "code",
   "execution_count": null,
   "metadata": {},
   "outputs": [],
   "source": []
  },
  {
   "cell_type": "markdown",
   "metadata": {},
   "source": [
    "### Question 4: Which movies had the highest gross (domestic and worldwide)?"
   ]
  },
  {
   "cell_type": "code",
   "execution_count": null,
   "metadata": {},
   "outputs": [],
   "source": [
    "#New dataframe for plotting \n",
    "new_df3 = df_big.sort_values(by = 'worldwide_gross', ascending = False).head(10)\n",
    "new_df3.reset_index(inplace=True)\n",
    "fig, ax = plt.subplots()\n",
    "new_df3.head(10).plot(x='movie', y='worldwide_gross', kind='barh', title='Gross for Top 10 ', color='magenta', edgecolor='black', ax=ax)\n",
    "formatter = ticker.FormatStrFormatter('$%1.0f')\n",
    "ax.xaxis.set_major_formatter(ticker.FuncFormatter(lambda x, p: format(int(x), ',')))\n",
    "\n",
    "#Labels and layout\n",
    "plt.title('Top 10 Movies Based on Worldwide Gross from 2010-Present')\n",
    "plt.xlabel('Dollar Amount')\n",
    "plt.ylabel('Movies')\n",
    "#Rotate x-axis for better look\n",
    "plt.xticks(rotation=25)\n",
    "fig.tight_layout()"
   ]
  },
  {
   "cell_type": "markdown",
   "metadata": {},
   "source": [
    "### Answer 4 Part 1: The above chart captures top 10 movies based on worldwide gross from 2010-present. "
   ]
  },
  {
   "cell_type": "code",
   "execution_count": null,
   "metadata": {},
   "outputs": [],
   "source": [
    "#New dataframe for plotting\n",
    "new_df5 = df_big.sort_values(by = 'domestic_gross_x', ascending = False).head(10)\n",
    "new_df5.reset_index(inplace=True)\n",
    "fig, ax = plt.subplots()\n",
    "new_df5.head(10).plot(x='movie', y='domestic_gross_x', kind='barh', title='Gross for Top 10 ', color='cyan', edgecolor='black', ax=ax)\n",
    "formatter = ticker.FormatStrFormatter('$%1.0f')\n",
    "ax.xaxis.set_major_formatter(ticker.FuncFormatter(lambda x, p: format(int(x), ',')))\n",
    "\n",
    "#Labels and layout\n",
    "plt.title('Top 10 Movies Based on Domestic Gross from 2010-2019')\n",
    "plt.xlabel('in Millions')\n",
    "plt.ylabel('Movies')\n",
    "\n",
    "#Rotate x-axis for a better look\n",
    "plt.xticks(rotation=25)\n",
    "fig.tight_layout()"
   ]
  },
  {
   "cell_type": "markdown",
   "metadata": {},
   "source": [
    "### Answer 4 Part 2: The above chart captures top 10 movies based on domestic gross from 2010-present. \n"
   ]
  },
  {
   "cell_type": "code",
   "execution_count": null,
   "metadata": {},
   "outputs": [],
   "source": [
    "#Look at the correlation between average rating & domestic gross\n",
    "#Look at the data\n",
    "new_df7 = df_big.groupby('domestic_gross_x').mean()\n",
    "new_df7.sort_values('averagerating',ascending=False, inplace=True)\n",
    "\n",
    "# Reset index\n",
    "new_df7.reset_index(inplace=True)\n",
    "\n",
    "#Let's Plot\n",
    "fig, ax = plt.subplots()\n",
    "new_df7.plot(x='averagerating', y='domestic_gross_x', kind='scatter', title='Average Rating By Average Domestic Gross',edgecolor='black', ax=ax)\n",
    "formatter = ticker.FormatStrFormatter('$%1.0f')\n",
    "ax.yaxis.set_major_formatter(ticker.FuncFormatter(lambda x, p: format(int(x), ',')))\n",
    "plt.title('Average Rating Correlation to Domestic Gross from 2019-Present')\n",
    "plt.xlabel('Average Rating')\n",
    "plt.ylabel('Domestic Gross')\n",
    "\n",
    "#For a nicer layout\n",
    "fig.tight_layout()\n"
   ]
  },
  {
   "cell_type": "code",
   "execution_count": null,
   "metadata": {},
   "outputs": [],
   "source": []
  },
  {
   "cell_type": "markdown",
   "metadata": {},
   "source": [
    "# Conclusion\n",
    "\n",
    "The first thing to keep in mind is that high gross does not have a direct correlation to high ratings. From preliminary findings, it is easy to get excited about the films that have yielded the most gross domestically and worldwide. To keep the focus where to go from here, I would suggest that you sincerely consider the Animation, Action, Sci-Fi, Adventure, or Family genres. As a new film production company, those genres have yielded the most profit domestically and internationally. "
   ]
  },
  {
   "cell_type": "code",
   "execution_count": null,
   "metadata": {},
   "outputs": [],
   "source": []
  }
 ],
 "metadata": {
  "kernelspec": {
   "display_name": "Python 3",
   "language": "python",
   "name": "python3"
  },
  "language_info": {
   "codemirror_mode": {
    "name": "ipython",
    "version": 3
   },
   "file_extension": ".py",
   "mimetype": "text/x-python",
   "name": "python",
   "nbconvert_exporter": "python",
   "pygments_lexer": "ipython3",
   "version": "3.6.9"
  },
  "toc": {
   "base_numbering": 1,
   "nav_menu": {},
   "number_sections": true,
   "sideBar": true,
   "skip_h1_title": false,
   "title_cell": "Table of Contents",
   "title_sidebar": "Contents",
   "toc_cell": false,
   "toc_position": {
    "height": "calc(100% - 180px)",
    "left": "10px",
    "top": "150px",
    "width": "233px"
   },
   "toc_section_display": true,
   "toc_window_display": true
  },
  "varInspector": {
   "cols": {
    "lenName": 16,
    "lenType": 16,
    "lenVar": 40
   },
   "kernels_config": {
    "python": {
     "delete_cmd_postfix": "",
     "delete_cmd_prefix": "del ",
     "library": "var_list.py",
     "varRefreshCmd": "print(var_dic_list())"
    },
    "r": {
     "delete_cmd_postfix": ") ",
     "delete_cmd_prefix": "rm(",
     "library": "var_list.r",
     "varRefreshCmd": "cat(var_dic_list()) "
    }
   },
   "types_to_exclude": [
    "module",
    "function",
    "builtin_function_or_method",
    "instance",
    "_Feature"
   ],
   "window_display": false
  }
 },
 "nbformat": 4,
 "nbformat_minor": 2
}
